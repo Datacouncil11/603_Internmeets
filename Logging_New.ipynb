{
 "cells": [
  {
   "cell_type": "code",
   "execution_count": 1,
   "id": "7a35dc1a-4641-4846-b0b4-408e7f1ee9da",
   "metadata": {},
   "outputs": [],
   "source": [
    "import logging"
   ]
  },
  {
   "cell_type": "raw",
   "id": "1a02afae-29f2-418c-9c9d-4d5fd759f16a",
   "metadata": {},
   "source": [
    "DEBUG\n",
    "INFO\n",
    "WARGNING\n",
    "ERROR\n",
    "CRITICAL"
   ]
  },
  {
   "cell_type": "code",
   "execution_count": 4,
   "id": "1c20038e-4bf8-48f5-a148-00c0dc7e16bc",
   "metadata": {},
   "outputs": [],
   "source": [
    "logging.basicConfig(filename='test1.log', level = logging.DEBUG, format = '%(asctime)s %(levelname)s %(message)s')"
   ]
  },
  {
   "cell_type": "code",
   "execution_count": 5,
   "id": "138bcc52-cfd2-4d74-9ebd-4ba9c2ad9621",
   "metadata": {},
   "outputs": [],
   "source": [
    "logging.info('This is my Inflo log')\n",
    "logging.warning('This is my warning log')\n",
    "logging.debug('This is my debug log')\n",
    "logging.error('This is my error log')"
   ]
  },
  {
   "cell_type": "code",
   "execution_count": 6,
   "id": "a8b7898d-5b88-43be-bf60-1109cb8bdf6c",
   "metadata": {},
   "outputs": [],
   "source": [
    "def div(a,b):\n",
    "    logging.info('This is a start of my code and I am try to enter %s and %s',a, b )\n",
    "    try:\n",
    "        division = a/b\n",
    "        logging.info('a/b excuted succesfully')\n",
    "    except Exception as e:\n",
    "        logging.error('Error has happend')\n",
    "        logging.exception('Exception occured' + str(e))"
   ]
  },
  {
   "cell_type": "code",
   "execution_count": 7,
   "id": "6c911c98-23f1-4605-828c-830ac0123c15",
   "metadata": {},
   "outputs": [],
   "source": [
    "div(10,2)"
   ]
  },
  {
   "cell_type": "code",
   "execution_count": 8,
   "id": "e4b34ced-958d-4787-831b-35e5d69b0dca",
   "metadata": {},
   "outputs": [],
   "source": [
    "div(4,0)"
   ]
  },
  {
   "cell_type": "code",
   "execution_count": null,
   "id": "ee591197-676c-44a0-bc30-3238aa8a6242",
   "metadata": {},
   "outputs": [],
   "source": []
  }
 ],
 "metadata": {
  "kernelspec": {
   "display_name": "Python 3 (ipykernel)",
   "language": "python",
   "name": "python3"
  },
  "language_info": {
   "codemirror_mode": {
    "name": "ipython",
    "version": 3
   },
   "file_extension": ".py",
   "mimetype": "text/x-python",
   "name": "python",
   "nbconvert_exporter": "python",
   "pygments_lexer": "ipython3",
   "version": "3.11.7"
  }
 },
 "nbformat": 4,
 "nbformat_minor": 5
}
