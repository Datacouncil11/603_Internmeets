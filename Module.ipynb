{
 "cells": [
  {
   "cell_type": "code",
   "execution_count": 1,
   "id": "abaa8fbb-1ce1-48d1-89a8-0e5e566ca045",
   "metadata": {},
   "outputs": [],
   "source": [
    "def test(a,b):\n",
    "    return a + b"
   ]
  },
  {
   "cell_type": "code",
   "execution_count": 2,
   "id": "d87e9f64-d2d0-4819-8abf-a781d822f556",
   "metadata": {},
   "outputs": [
    {
     "data": {
      "text/plain": [
       "7"
      ]
     },
     "execution_count": 2,
     "metadata": {},
     "output_type": "execute_result"
    }
   ],
   "source": [
    "test(5,2)"
   ]
  },
  {
   "cell_type": "code",
   "execution_count": 3,
   "id": "65a702b2-be3d-4224-bb65-e2a8a181faae",
   "metadata": {},
   "outputs": [
    {
     "name": "stdout",
     "output_type": "stream",
     "text": [
      " Volume in drive C has no label.\n",
      " Volume Serial Number is B294-EB73\n",
      "\n",
      " Directory of C:\\Users\\Admin\\Downloads\\Vaibhav Sir\\603_DA\\Internmeets_603\\Advance Python\\Module&Packages\n",
      "\n",
      "07/05/2024  03:40 PM    <DIR>          .\n",
      "07/05/2024  03:40 PM    <DIR>          ..\n",
      "07/05/2024  03:38 PM    <DIR>          .ipynb_checkpoints\n",
      "07/05/2024  03:40 PM             1,173 Module.ipynb\n",
      "               1 File(s)          1,173 bytes\n",
      "               3 Dir(s)   1,566,683,136 bytes free\n"
     ]
    }
   ],
   "source": [
    "ls"
   ]
  },
  {
   "cell_type": "code",
   "execution_count": null,
   "id": "9b3d505c-bd99-443a-814b-f8f4c636d6e5",
   "metadata": {},
   "outputs": [],
   "source": []
  }
 ],
 "metadata": {
  "kernelspec": {
   "display_name": "Python 3 (ipykernel)",
   "language": "python",
   "name": "python3"
  },
  "language_info": {
   "codemirror_mode": {
    "name": "ipython",
    "version": 3
   },
   "file_extension": ".py",
   "mimetype": "text/x-python",
   "name": "python",
   "nbconvert_exporter": "python",
   "pygments_lexer": "ipython3",
   "version": "3.11.7"
  }
 },
 "nbformat": 4,
 "nbformat_minor": 5
}
