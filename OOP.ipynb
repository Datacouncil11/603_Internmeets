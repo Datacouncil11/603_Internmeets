{
 "cells": [
  {
   "cell_type": "code",
   "execution_count": 4,
   "id": "a1f74ee6-a83a-4d4b-b615-a80141b888e5",
   "metadata": {},
   "outputs": [],
   "source": [
    "class abc:\n",
    "    def test1(self):\n",
    "        return 'test1'"
   ]
  },
  {
   "cell_type": "code",
   "execution_count": 5,
   "id": "23651836-2790-44aa-af42-9c70cb500569",
   "metadata": {},
   "outputs": [],
   "source": [
    "x = abc()"
   ]
  },
  {
   "cell_type": "code",
   "execution_count": 6,
   "id": "0bc1e3d3-58ae-401c-b9d8-9ca56bcacd14",
   "metadata": {},
   "outputs": [
    {
     "data": {
      "text/plain": [
       "'test1'"
      ]
     },
     "execution_count": 6,
     "metadata": {},
     "output_type": "execute_result"
    }
   ],
   "source": [
    "x.test1()"
   ]
  },
  {
   "cell_type": "code",
   "execution_count": null,
   "id": "b3f6818a-a3dc-4121-a4a7-e1ef0c2d08a0",
   "metadata": {},
   "outputs": [],
   "source": []
  },
  {
   "cell_type": "code",
   "execution_count": null,
   "id": "5dfe2c38-13a6-4e87-a4b1-2ddd93c2fdec",
   "metadata": {},
   "outputs": [],
   "source": []
  },
  {
   "cell_type": "code",
   "execution_count": null,
   "id": "e632a532-b6f4-4204-8a1e-5ddb1c8fa8e5",
   "metadata": {},
   "outputs": [],
   "source": []
  },
  {
   "cell_type": "code",
   "execution_count": null,
   "id": "e492f25b-1944-47bf-88e6-cd3d34b00890",
   "metadata": {},
   "outputs": [],
   "source": []
  },
  {
   "cell_type": "code",
   "execution_count": 7,
   "id": "6bb72986-8aa7-45f6-8870-e37927ebb2f0",
   "metadata": {},
   "outputs": [],
   "source": [
    "class car():\n",
    "    def __init__(data,color,body,engine):\n",
    "        data.color = color\n",
    "        data.body = body\n",
    "        data.engine = engine"
   ]
  },
  {
   "cell_type": "code",
   "execution_count": 9,
   "id": "2834beeb-f927-4a6b-8839-09631524c409",
   "metadata": {},
   "outputs": [],
   "source": [
    "Nexon = car('Red', 'SUV', 1500)"
   ]
  },
  {
   "cell_type": "code",
   "execution_count": 11,
   "id": "e5689ad1-503b-436b-a0fa-4cf9f59011dc",
   "metadata": {},
   "outputs": [
    {
     "data": {
      "text/plain": [
       "'SUV'"
      ]
     },
     "execution_count": 11,
     "metadata": {},
     "output_type": "execute_result"
    }
   ],
   "source": [
    "Nexon.body"
   ]
  },
  {
   "cell_type": "code",
   "execution_count": 12,
   "id": "4c30334d-bef0-4518-92da-e59c8119e3e9",
   "metadata": {},
   "outputs": [
    {
     "data": {
      "text/plain": [
       "'Red'"
      ]
     },
     "execution_count": 12,
     "metadata": {},
     "output_type": "execute_result"
    }
   ],
   "source": [
    "Nexon.color"
   ]
  },
  {
   "cell_type": "code",
   "execution_count": 13,
   "id": "4ae770e9-69b5-4a9f-a2c5-eec28e484ee4",
   "metadata": {},
   "outputs": [
    {
     "data": {
      "text/plain": [
       "1500"
      ]
     },
     "execution_count": 13,
     "metadata": {},
     "output_type": "execute_result"
    }
   ],
   "source": [
    "Nexon.engine"
   ]
  },
  {
   "cell_type": "code",
   "execution_count": null,
   "id": "f1a00f02-5862-418a-b7da-0794ae493273",
   "metadata": {},
   "outputs": [],
   "source": []
  }
 ],
 "metadata": {
  "kernelspec": {
   "display_name": "Python 3 (ipykernel)",
   "language": "python",
   "name": "python3"
  },
  "language_info": {
   "codemirror_mode": {
    "name": "ipython",
    "version": 3
   },
   "file_extension": ".py",
   "mimetype": "text/x-python",
   "name": "python",
   "nbconvert_exporter": "python",
   "pygments_lexer": "ipython3",
   "version": "3.11.7"
  }
 },
 "nbformat": 4,
 "nbformat_minor": 5
}
