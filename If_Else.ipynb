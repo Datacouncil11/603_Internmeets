{
 "cells": [
  {
   "cell_type": "code",
   "execution_count": 1,
   "id": "a792d721-9acc-4071-822e-c496489bf4ec",
   "metadata": {},
   "outputs": [
    {
     "data": {
      "text/plain": [
       "True"
      ]
     },
     "execution_count": 1,
     "metadata": {},
     "output_type": "execute_result"
    }
   ],
   "source": [
    "40 > 35"
   ]
  },
  {
   "cell_type": "code",
   "execution_count": 2,
   "id": "e1301f7e-77fc-4c40-9fc0-d7496346de4b",
   "metadata": {},
   "outputs": [
    {
     "data": {
      "text/plain": [
       "False"
      ]
     },
     "execution_count": 2,
     "metadata": {},
     "output_type": "execute_result"
    }
   ],
   "source": [
    "40 < 35"
   ]
  },
  {
   "cell_type": "code",
   "execution_count": 4,
   "id": "fa1cbbf2-27fa-4cf1-85d7-6d48757b7f2d",
   "metadata": {},
   "outputs": [
    {
     "name": "stdout",
     "output_type": "stream",
     "text": [
      "Fail\n"
     ]
    }
   ],
   "source": [
    "if 10 > 35:\n",
    "    print('Pass')\n",
    "else:\n",
    "    print('Fail')"
   ]
  },
  {
   "cell_type": "code",
   "execution_count": 6,
   "id": "baa13d42-275b-40d3-94d3-6ed347121838",
   "metadata": {},
   "outputs": [
    {
     "name": "stdin",
     "output_type": "stream",
     "text": [
      "Enter your marks 23\n"
     ]
    },
    {
     "name": "stdout",
     "output_type": "stream",
     "text": [
      "Fail\n"
     ]
    }
   ],
   "source": [
    "marks = int(input('Enter your marks'))\n",
    "if marks > 35:\n",
    "    print('Pass')\n",
    "else:\n",
    "    print('Fail')"
   ]
  },
  {
   "cell_type": "code",
   "execution_count": 8,
   "id": "f717643e-d0a3-4919-bd09-4a004a177862",
   "metadata": {},
   "outputs": [
    {
     "name": "stdin",
     "output_type": "stream",
     "text": [
      "Enter your age 17\n"
     ]
    },
    {
     "name": "stdout",
     "output_type": "stream",
     "text": [
      "You are not allowed to drive car\n"
     ]
    }
   ],
   "source": [
    "age = int(input('Enter your age'))\n",
    "if age > 18:\n",
    "    print('You can drive car')\n",
    "else:\n",
    "    print('You are not allowed to drive car')"
   ]
  },
  {
   "cell_type": "code",
   "execution_count": 11,
   "id": "d0608f55-a47e-4501-afe0-093bad33dfe5",
   "metadata": {},
   "outputs": [
    {
     "name": "stdin",
     "output_type": "stream",
     "text": [
      " 4\n"
     ]
    },
    {
     "name": "stdout",
     "output_type": "stream",
     "text": [
      "small kid\n"
     ]
    }
   ],
   "source": [
    "age = int(input())\n",
    "if age > 65:\n",
    "    print('Old Age')\n",
    "elif age > 18:\n",
    "    print('Adult')\n",
    "elif age > 5:\n",
    "    print('Kid')\n",
    "else:\n",
    "    print('small kid')"
   ]
  },
  {
   "cell_type": "code",
   "execution_count": 14,
   "id": "2d894464-eaf7-49c6-992a-0d5d13f409d4",
   "metadata": {},
   "outputs": [
    {
     "name": "stdin",
     "output_type": "stream",
     "text": [
      "Enter your course name Data Science\n"
     ]
    },
    {
     "name": "stdout",
     "output_type": "stream",
     "text": [
      "Yes data science course is avilabel\n"
     ]
    }
   ],
   "source": [
    "course = input('Enter your course name')\n",
    "if course == 'Data Science':\n",
    "    print('Yes data science course is avilabel')\n",
    "else:\n",
    "    print('We dont have that course')"
   ]
  }
 ],
 "metadata": {
  "kernelspec": {
   "display_name": "Python 3 (ipykernel)",
   "language": "python",
   "name": "python3"
  },
  "language_info": {
   "codemirror_mode": {
    "name": "ipython",
    "version": 3
   },
   "file_extension": ".py",
   "mimetype": "text/x-python",
   "name": "python",
   "nbconvert_exporter": "python",
   "pygments_lexer": "ipython3",
   "version": "3.11.7"
  }
 },
 "nbformat": 4,
 "nbformat_minor": 5
}
