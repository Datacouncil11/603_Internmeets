{
 "cells": [
  {
   "cell_type": "code",
   "execution_count": 1,
   "id": "21a86b53-0f18-496e-a918-9a08f3b27cad",
   "metadata": {},
   "outputs": [],
   "source": [
    "class House:\n",
    "    def __init__(self,area,bhk,floor):\n",
    "        self.area=area\n",
    "        self.bhk=bhk\n",
    "        self.floor=floor\n",
    "        \n",
    "    def display(self):\n",
    "        print(\"Area is :\",self.area)\n",
    "        print(\"BHK is :\",self.bhk)\n",
    "        print(\"Floor is :\",self.floor)"
   ]
  },
  {
   "cell_type": "code",
   "execution_count": 3,
   "id": "9913b046-070a-4508-a122-6b86821c879f",
   "metadata": {},
   "outputs": [],
   "source": [
    "D = House(2000, '2BHK', 3)"
   ]
  },
  {
   "cell_type": "code",
   "execution_count": 4,
   "id": "c3b4cba2-d2d6-4383-aa31-32eb8ff1d61e",
   "metadata": {},
   "outputs": [
    {
     "name": "stdout",
     "output_type": "stream",
     "text": [
      "Area is : 2000\n",
      "BHK is : 2BHK\n",
      "Floor is : 3\n"
     ]
    }
   ],
   "source": [
    "D.display()"
   ]
  },
  {
   "cell_type": "code",
   "execution_count": 5,
   "id": "ad2e91e1-3831-497c-b91b-35b53be33b84",
   "metadata": {},
   "outputs": [
    {
     "data": {
      "text/plain": [
       "2000"
      ]
     },
     "execution_count": 5,
     "metadata": {},
     "output_type": "execute_result"
    }
   ],
   "source": [
    "D.area"
   ]
  },
  {
   "cell_type": "code",
   "execution_count": 8,
   "id": "64d8b776-7971-41bf-9b33-99b9e0c71ebf",
   "metadata": {},
   "outputs": [
    {
     "data": {
      "text/plain": [
       "'2BHK'"
      ]
     },
     "execution_count": 8,
     "metadata": {},
     "output_type": "execute_result"
    }
   ],
   "source": [
    "D.bhk"
   ]
  },
  {
   "cell_type": "code",
   "execution_count": 9,
   "id": "5f75ac80-e287-41d4-92f4-9a98bb98d85d",
   "metadata": {},
   "outputs": [
    {
     "data": {
      "text/plain": [
       "3"
      ]
     },
     "execution_count": 9,
     "metadata": {},
     "output_type": "execute_result"
    }
   ],
   "source": [
    "D.floor"
   ]
  },
  {
   "cell_type": "code",
   "execution_count": 11,
   "id": "7e3e1262-50a9-4668-b02e-615d6cbccb29",
   "metadata": {},
   "outputs": [],
   "source": [
    "class House:\n",
    "    def __init__(self,area,bhk,floor):\n",
    "        self.area=area #public\n",
    "        self._bhk=bhk # protected\n",
    "        self.__floor=floor #private\n",
    "        \n",
    "    def display(self):\n",
    "        print(\"Area is :\",self.area)\n",
    "        print(\"BHK is :\",self._bhk)\n",
    "        print(\"Floor is :\",self._House__floor)"
   ]
  },
  {
   "cell_type": "code",
   "execution_count": 12,
   "id": "16ada92e-2e67-4fa3-8996-44c48db3e1b0",
   "metadata": {},
   "outputs": [],
   "source": [
    "S = House(1000, '2bhk', 2)"
   ]
  },
  {
   "cell_type": "code",
   "execution_count": 13,
   "id": "c57dcc6a-5dec-4581-8615-a33c1bf360f3",
   "metadata": {},
   "outputs": [
    {
     "name": "stdout",
     "output_type": "stream",
     "text": [
      "Area is : 1000\n",
      "BHK is : 2bhk\n",
      "Floor is : 2\n"
     ]
    }
   ],
   "source": [
    "S.display()"
   ]
  },
  {
   "cell_type": "code",
   "execution_count": 14,
   "id": "fca3ce6d-9a47-4957-9dcd-1dbcbd644f12",
   "metadata": {},
   "outputs": [
    {
     "data": {
      "text/plain": [
       "1000"
      ]
     },
     "execution_count": 14,
     "metadata": {},
     "output_type": "execute_result"
    }
   ],
   "source": [
    "S.area"
   ]
  },
  {
   "cell_type": "code",
   "execution_count": 15,
   "id": "c9483ef3-fb6b-43f1-874b-c700b707ac51",
   "metadata": {},
   "outputs": [
    {
     "data": {
      "text/plain": [
       "'2bhk'"
      ]
     },
     "execution_count": 15,
     "metadata": {},
     "output_type": "execute_result"
    }
   ],
   "source": [
    "S._bhk"
   ]
  },
  {
   "cell_type": "code",
   "execution_count": 16,
   "id": "9c98eaa8-5861-47ee-9ee9-31a04d338b9f",
   "metadata": {},
   "outputs": [
    {
     "data": {
      "text/plain": [
       "2"
      ]
     },
     "execution_count": 16,
     "metadata": {},
     "output_type": "execute_result"
    }
   ],
   "source": [
    "S._House__floor"
   ]
  },
  {
   "cell_type": "markdown",
   "id": "626e49f5-bfa6-40c4-8fed-6524187f7f89",
   "metadata": {},
   "source": [
    "# Inheritance"
   ]
  },
  {
   "cell_type": "code",
   "execution_count": 17,
   "id": "7e1abc6d-54e0-4c7f-8c7e-1da85bb4868e",
   "metadata": {},
   "outputs": [],
   "source": [
    "class parent:\n",
    "    def __init__(self, a , b, c):\n",
    "        self.a = a\n",
    "        self.b = b\n",
    "        self.c = c"
   ]
  },
  {
   "cell_type": "code",
   "execution_count": 18,
   "id": "35f88a7e-cb55-44b5-aac1-736499165a15",
   "metadata": {},
   "outputs": [],
   "source": [
    "class child(parent):\n",
    "    pass"
   ]
  },
  {
   "cell_type": "code",
   "execution_count": 19,
   "id": "1d9f9c41-8f15-4546-ac43-273a2d59d19b",
   "metadata": {},
   "outputs": [],
   "source": [
    "C1 = child(1,2,3)"
   ]
  },
  {
   "cell_type": "code",
   "execution_count": 20,
   "id": "016b7d3b-0261-4331-8438-81bae1ddbd0a",
   "metadata": {},
   "outputs": [
    {
     "data": {
      "text/plain": [
       "1"
      ]
     },
     "execution_count": 20,
     "metadata": {},
     "output_type": "execute_result"
    }
   ],
   "source": [
    "C1.a"
   ]
  },
  {
   "cell_type": "code",
   "execution_count": 21,
   "id": "2881c946-eb6e-469b-b1b8-9e3ef5a916cf",
   "metadata": {},
   "outputs": [
    {
     "data": {
      "text/plain": [
       "2"
      ]
     },
     "execution_count": 21,
     "metadata": {},
     "output_type": "execute_result"
    }
   ],
   "source": [
    "C1.b"
   ]
  },
  {
   "cell_type": "code",
   "execution_count": 22,
   "id": "2f58a7c0-84fe-4878-9fc8-9309490483dd",
   "metadata": {},
   "outputs": [
    {
     "data": {
      "text/plain": [
       "3"
      ]
     },
     "execution_count": 22,
     "metadata": {},
     "output_type": "execute_result"
    }
   ],
   "source": [
    "C1.c"
   ]
  },
  {
   "cell_type": "code",
   "execution_count": 23,
   "id": "dcc29231-9b96-48a2-9e5c-23f53edbdd20",
   "metadata": {},
   "outputs": [],
   "source": [
    "class child(parent): # Child class \n",
    "    def display(self):\n",
    "        print('This is Child class and I am Display Function')"
   ]
  },
  {
   "cell_type": "code",
   "execution_count": 24,
   "id": "a55a6794-433d-4285-9ae1-0ac731f929bd",
   "metadata": {},
   "outputs": [],
   "source": [
    "p1 = parent(1,2,3)"
   ]
  },
  {
   "cell_type": "code",
   "execution_count": 25,
   "id": "188ca42a-dd11-475e-a24a-b5c39ea618cc",
   "metadata": {},
   "outputs": [
    {
     "data": {
      "text/plain": [
       "1"
      ]
     },
     "execution_count": 25,
     "metadata": {},
     "output_type": "execute_result"
    }
   ],
   "source": [
    "p1.a"
   ]
  },
  {
   "cell_type": "code",
   "execution_count": 26,
   "id": "5901d1e6-63d0-42dd-8461-64cc9798d7df",
   "metadata": {},
   "outputs": [],
   "source": [
    "c2 = child(1,2,3)"
   ]
  },
  {
   "cell_type": "code",
   "execution_count": 27,
   "id": "a179c682-969b-402f-8013-74d0a6ae6ed3",
   "metadata": {},
   "outputs": [
    {
     "name": "stdout",
     "output_type": "stream",
     "text": [
      "This is Child class and I am Display Function\n"
     ]
    }
   ],
   "source": [
    "c2.display()"
   ]
  },
  {
   "cell_type": "code",
   "execution_count": 28,
   "id": "d03aacff-5588-4c66-a85a-8a79467bd802",
   "metadata": {},
   "outputs": [],
   "source": [
    "# Parent class contains the child property?\n",
    "# Child class contains the parent property? Parent--> Child #Right"
   ]
  },
  {
   "cell_type": "code",
   "execution_count": 34,
   "id": "7fcf60c2-c819-4c56-a3be-848bf19fcabe",
   "metadata": {},
   "outputs": [],
   "source": [
    "class parent:\n",
    "    def __init__(self, a , b, c):\n",
    "        self.a = a\n",
    "        self._b = b #protected\n",
    "        self.__c = c #private\n",
    "\n",
    "class child(parent): # Child class \n",
    "    def display(self):\n",
    "        print('This is Child class and I am Display Function')"
   ]
  },
  {
   "cell_type": "code",
   "execution_count": 35,
   "id": "2b0d7ff9-7574-43e5-89ab-bdeed39b13a0",
   "metadata": {},
   "outputs": [],
   "source": [
    "c3 = child(1,2,3)"
   ]
  },
  {
   "cell_type": "code",
   "execution_count": 36,
   "id": "372c49a0-d6ac-4d0e-9352-6206b47b61e2",
   "metadata": {},
   "outputs": [
    {
     "data": {
      "text/plain": [
       "2"
      ]
     },
     "execution_count": 36,
     "metadata": {},
     "output_type": "execute_result"
    }
   ],
   "source": [
    "c3._b # Parent--> Child"
   ]
  },
  {
   "cell_type": "code",
   "execution_count": 37,
   "id": "f75efb4e-26fc-445d-b1a1-ecf03b03228d",
   "metadata": {},
   "outputs": [
    {
     "data": {
      "text/plain": [
       "3"
      ]
     },
     "execution_count": 37,
     "metadata": {},
     "output_type": "execute_result"
    }
   ],
   "source": [
    "c3._parent__c"
   ]
  },
  {
   "cell_type": "code",
   "execution_count": 38,
   "id": "29c42f99-0c08-41bc-9f22-b3c768566376",
   "metadata": {},
   "outputs": [],
   "source": [
    "c3.a = 100"
   ]
  },
  {
   "cell_type": "code",
   "execution_count": 39,
   "id": "37fccbbc-5c58-4ed6-8890-b16b9e9c1d7d",
   "metadata": {},
   "outputs": [
    {
     "data": {
      "text/plain": [
       "100"
      ]
     },
     "execution_count": 39,
     "metadata": {},
     "output_type": "execute_result"
    }
   ],
   "source": [
    "c3.a"
   ]
  },
  {
   "cell_type": "code",
   "execution_count": 40,
   "id": "75ef826e-b972-4526-b30f-a285b735f8f4",
   "metadata": {},
   "outputs": [],
   "source": [
    "c3._b = 200"
   ]
  },
  {
   "cell_type": "code",
   "execution_count": 41,
   "id": "5da70f8f-7263-44f4-bebf-7fb65aaf2d55",
   "metadata": {},
   "outputs": [
    {
     "data": {
      "text/plain": [
       "200"
      ]
     },
     "execution_count": 41,
     "metadata": {},
     "output_type": "execute_result"
    }
   ],
   "source": [
    "c3._b"
   ]
  },
  {
   "cell_type": "code",
   "execution_count": 42,
   "id": "2eeb20ac-61a8-4655-99ee-b7141a02c3ed",
   "metadata": {},
   "outputs": [],
   "source": [
    "c3._parent__c = 300"
   ]
  },
  {
   "cell_type": "code",
   "execution_count": 43,
   "id": "d4ca2d76-ca82-4bbf-8ead-9dec9151c1d4",
   "metadata": {},
   "outputs": [
    {
     "data": {
      "text/plain": [
       "300"
      ]
     },
     "execution_count": 43,
     "metadata": {},
     "output_type": "execute_result"
    }
   ],
   "source": [
    "c3._parent__c"
   ]
  },
  {
   "cell_type": "code",
   "execution_count": 47,
   "id": "1e78d372-73b0-4f0f-8121-e2c010b9298f",
   "metadata": {},
   "outputs": [],
   "source": [
    "class parent:                         # Contain only parent class property\n",
    "    def __init__(self, a , b, c):\n",
    "        self.a = a\n",
    "        self._b = b #protected\n",
    "        self.__c = c #private\n",
    "\n",
    "class child(parent):                  # contain  own prop. + parent property --> child\n",
    "    def display(self):\n",
    "        print('This is Child class and I am Display Function')\n",
    "\n",
    "class child2(child):                 # Own + child --> child2\n",
    "    def display2(self):\n",
    "        print('This is child2 class and I am Display Function')"
   ]
  },
  {
   "cell_type": "code",
   "execution_count": 48,
   "id": "04cac864-be74-4852-9bfd-42c397ba7637",
   "metadata": {},
   "outputs": [],
   "source": [
    "c4 = child2(1,2,3)"
   ]
  },
  {
   "cell_type": "code",
   "execution_count": 49,
   "id": "986583af-3587-4f69-8a87-f3b979981996",
   "metadata": {},
   "outputs": [
    {
     "name": "stdout",
     "output_type": "stream",
     "text": [
      "This is Child class and I am Display Function\n"
     ]
    }
   ],
   "source": [
    "c4."
   ]
  },
  {
   "cell_type": "code",
   "execution_count": 51,
   "id": "580954d9-99ff-4bd6-b375-59d95cd5a25e",
   "metadata": {},
   "outputs": [],
   "source": [
    "c5 = child(1,2,3)"
   ]
  },
  {
   "cell_type": "code",
   "execution_count": 52,
   "id": "2c9b41ce-596c-486d-b0f9-35f0f993ce40",
   "metadata": {},
   "outputs": [
    {
     "name": "stdout",
     "output_type": "stream",
     "text": [
      "This is Child class and I am Display Function\n"
     ]
    }
   ],
   "source": [
    "c5.display()"
   ]
  },
  {
   "cell_type": "code",
   "execution_count": null,
   "id": "3b70ea41-15c5-4e43-bb45-17709d40b6aa",
   "metadata": {},
   "outputs": [],
   "source": []
  }
 ],
 "metadata": {
  "kernelspec": {
   "display_name": "Python 3 (ipykernel)",
   "language": "python",
   "name": "python3"
  },
  "language_info": {
   "codemirror_mode": {
    "name": "ipython",
    "version": 3
   },
   "file_extension": ".py",
   "mimetype": "text/x-python",
   "name": "python",
   "nbconvert_exporter": "python",
   "pygments_lexer": "ipython3",
   "version": "3.11.7"
  }
 },
 "nbformat": 4,
 "nbformat_minor": 5
}
