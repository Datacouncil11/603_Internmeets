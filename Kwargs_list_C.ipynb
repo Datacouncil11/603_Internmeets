{
 "cells": [
  {
   "cell_type": "code",
   "execution_count": 1,
   "id": "4138397b-fca0-4c34-9183-1d4b071757ce",
   "metadata": {},
   "outputs": [],
   "source": [
    "def test9(**kwargs):\n",
    "    return kwargs"
   ]
  },
  {
   "cell_type": "code",
   "execution_count": 3,
   "id": "fbb2373a-93a8-40b3-9aa4-d4564e4b24d0",
   "metadata": {},
   "outputs": [
    {
     "data": {
      "text/plain": [
       "{'a': 2, 'b': 3}"
      ]
     },
     "execution_count": 3,
     "metadata": {},
     "output_type": "execute_result"
    }
   ],
   "source": [
    "test9(a=2,b=3)"
   ]
  },
  {
   "cell_type": "code",
   "execution_count": 4,
   "id": "e87c3297-8a68-4979-9b01-f73c50fd87a0",
   "metadata": {},
   "outputs": [
    {
     "data": {
      "text/plain": [
       "dict"
      ]
     },
     "execution_count": 4,
     "metadata": {},
     "output_type": "execute_result"
    }
   ],
   "source": [
    "type(test9(a=2,b=3))"
   ]
  },
  {
   "cell_type": "code",
   "execution_count": 5,
   "id": "1a661746-9419-47bd-b524-70349e6c4bd7",
   "metadata": {},
   "outputs": [],
   "source": [
    "def test10(*args,**kwargs):\n",
    "    return args , kwargs"
   ]
  },
  {
   "cell_type": "code",
   "execution_count": 6,
   "id": "b345a921-0131-47f6-9d3e-021187982c83",
   "metadata": {},
   "outputs": [
    {
     "data": {
      "text/plain": [
       "((1, 3, 4, 5, 3, 2, 4), {'a': 3, 'b': 0, 't': 9})"
      ]
     },
     "execution_count": 6,
     "metadata": {},
     "output_type": "execute_result"
    }
   ],
   "source": [
    "test10(1,3,4,5,3,2,4,a=3,b=0,t=9)"
   ]
  },
  {
   "cell_type": "code",
   "execution_count": 7,
   "id": "7165d80e-5f7e-4b75-9302-9c16cee0e64a",
   "metadata": {},
   "outputs": [],
   "source": [
    "def test11(a,b,*args, **kwargs):\n",
    "    return a, b, args, kwargs"
   ]
  },
  {
   "cell_type": "code",
   "execution_count": 8,
   "id": "1e07a29a-5ab7-4db5-81b9-ea1e9f6ff12f",
   "metadata": {},
   "outputs": [
    {
     "data": {
      "text/plain": [
       "(1, 2, (3, 4, 4, 5, 67), {'k': 9, 'j': 4, 'r': 4})"
      ]
     },
     "execution_count": 8,
     "metadata": {},
     "output_type": "execute_result"
    }
   ],
   "source": [
    "test11(1,2,3,4,4,5,67,k=9,j=4,r=4)"
   ]
  },
  {
   "cell_type": "code",
   "execution_count": 9,
   "id": "e0e2dc94-1ede-418e-80ff-cc751c5a56fb",
   "metadata": {},
   "outputs": [],
   "source": [
    "def test12(**kwargs):\n",
    "    return kwargs.keys()"
   ]
  },
  {
   "cell_type": "code",
   "execution_count": 10,
   "id": "7b2332a5-9387-414d-a31c-b167e334854c",
   "metadata": {},
   "outputs": [
    {
     "data": {
      "text/plain": [
       "dict_keys(['k', 'j', 'r'])"
      ]
     },
     "execution_count": 10,
     "metadata": {},
     "output_type": "execute_result"
    }
   ],
   "source": [
    "test12(k=9,j=4,r=4)"
   ]
  },
  {
   "cell_type": "code",
   "execution_count": 13,
   "id": "8c5a319c-79a8-4342-adb3-7dcd707d3677",
   "metadata": {},
   "outputs": [],
   "source": [
    "x = lambda a : a*2"
   ]
  },
  {
   "cell_type": "code",
   "execution_count": 14,
   "id": "7d29dbaf-9fcc-4baa-a0f1-7765ae14d606",
   "metadata": {},
   "outputs": [
    {
     "data": {
      "text/plain": [
       "4"
      ]
     },
     "execution_count": 14,
     "metadata": {},
     "output_type": "execute_result"
    }
   ],
   "source": [
    "x(2)"
   ]
  },
  {
   "cell_type": "code",
   "execution_count": 15,
   "id": "1e56b869-7579-4114-9817-ffb0a3d57bf5",
   "metadata": {},
   "outputs": [],
   "source": [
    "y = lambda x : x**2"
   ]
  },
  {
   "cell_type": "code",
   "execution_count": 16,
   "id": "410b5526-41d6-43b9-b79e-a9ef1345f109",
   "metadata": {},
   "outputs": [
    {
     "data": {
      "text/plain": [
       "9"
      ]
     },
     "execution_count": 16,
     "metadata": {},
     "output_type": "execute_result"
    }
   ],
   "source": [
    "y(3)"
   ]
  },
  {
   "cell_type": "code",
   "execution_count": 17,
   "id": "cd256fe9-6fbf-45c4-a8a2-f32d22f87298",
   "metadata": {},
   "outputs": [],
   "source": [
    "j = lambda *args:args"
   ]
  },
  {
   "cell_type": "code",
   "execution_count": 18,
   "id": "c8927624-918e-43aa-8bbe-c63f9823c0c2",
   "metadata": {},
   "outputs": [
    {
     "data": {
      "text/plain": [
       "(1, 2, 3, 4, 5, 5)"
      ]
     },
     "execution_count": 18,
     "metadata": {},
     "output_type": "execute_result"
    }
   ],
   "source": [
    "j(1,2,3,4,5,5)"
   ]
  },
  {
   "cell_type": "code",
   "execution_count": 19,
   "id": "a8f6f13c-9a61-4d49-94aa-1beeb329320b",
   "metadata": {},
   "outputs": [],
   "source": [
    "h = lambda  a,b:a+b"
   ]
  },
  {
   "cell_type": "code",
   "execution_count": 20,
   "id": "499f247e-608f-4688-b906-accf9d6c315a",
   "metadata": {},
   "outputs": [
    {
     "data": {
      "text/plain": [
       "5"
      ]
     },
     "execution_count": 20,
     "metadata": {},
     "output_type": "execute_result"
    }
   ],
   "source": [
    "h(2,3)"
   ]
  },
  {
   "cell_type": "code",
   "execution_count": 22,
   "id": "cda19c15-b140-462f-8719-93c802130518",
   "metadata": {},
   "outputs": [],
   "source": [
    "c = lambda s:(i for i in s)"
   ]
  },
  {
   "cell_type": "code",
   "execution_count": 23,
   "id": "036e487c-eb4f-4dc5-ab23-afe134d92b43",
   "metadata": {},
   "outputs": [
    {
     "ename": "TypeError",
     "evalue": "'int' object is not iterable",
     "output_type": "error",
     "traceback": [
      "\u001b[1;31m---------------------------------------------------------------------------\u001b[0m",
      "\u001b[1;31mTypeError\u001b[0m                                 Traceback (most recent call last)",
      "Cell \u001b[1;32mIn[23], line 1\u001b[0m\n\u001b[1;32m----> 1\u001b[0m c(\u001b[38;5;241m5\u001b[39m)\n",
      "Cell \u001b[1;32mIn[22], line 1\u001b[0m, in \u001b[0;36m<lambda>\u001b[1;34m(s)\u001b[0m\n\u001b[1;32m----> 1\u001b[0m c \u001b[38;5;241m=\u001b[39m \u001b[38;5;28;01mlambda\u001b[39;00m s:(i \u001b[38;5;28;01mfor\u001b[39;00m i \u001b[38;5;129;01min\u001b[39;00m s)\n",
      "\u001b[1;31mTypeError\u001b[0m: 'int' object is not iterable"
     ]
    }
   ],
   "source": [
    "c(5)"
   ]
  },
  {
   "cell_type": "code",
   "execution_count": 24,
   "id": "0398a96e-4999-421d-9d43-7fed2ee28df5",
   "metadata": {},
   "outputs": [],
   "source": [
    "c = lambda s:[i for i in s]"
   ]
  },
  {
   "cell_type": "code",
   "execution_count": 26,
   "id": "9fa3b6ca-9467-49b3-8b77-845062041605",
   "metadata": {},
   "outputs": [
    {
     "data": {
      "text/plain": [
       "[1, 2, 3, 4]"
      ]
     },
     "execution_count": 26,
     "metadata": {},
     "output_type": "execute_result"
    }
   ],
   "source": [
    "c([1,2,3,4])"
   ]
  },
  {
   "cell_type": "code",
   "execution_count": 27,
   "id": "515db2dc-36a1-4819-b826-d8f850e7d71b",
   "metadata": {},
   "outputs": [],
   "source": [
    "# List "
   ]
  },
  {
   "cell_type": "code",
   "execution_count": 28,
   "id": "5acc41ea-c0f7-4521-baa7-91eee3c8312e",
   "metadata": {},
   "outputs": [
    {
     "data": {
      "text/plain": [
       "[0, 1, 2, 3, 4]"
      ]
     },
     "execution_count": 28,
     "metadata": {},
     "output_type": "execute_result"
    }
   ],
   "source": [
    "[i for i in range(5)]"
   ]
  },
  {
   "cell_type": "code",
   "execution_count": 29,
   "id": "9fd29972-8b7a-40c7-a5ca-1ce10fdb6884",
   "metadata": {},
   "outputs": [
    {
     "data": {
      "text/plain": [
       "['D', 'a', 't', 'a', 'S', 'c', 'i', 'e', 'n', 'c', 'e']"
      ]
     },
     "execution_count": 29,
     "metadata": {},
     "output_type": "execute_result"
    }
   ],
   "source": [
    "[i for i in 'DataScience']"
   ]
  },
  {
   "cell_type": "code",
   "execution_count": 30,
   "id": "ffacbded-213a-44b2-8b5e-ab58e7d9a904",
   "metadata": {},
   "outputs": [],
   "source": [
    "s = [i for i in 'DataScience']"
   ]
  },
  {
   "cell_type": "code",
   "execution_count": 31,
   "id": "a9f720aa-d6c1-4f3b-b6d1-e01445b20ef6",
   "metadata": {},
   "outputs": [
    {
     "data": {
      "text/plain": [
       "['D', 'a', 't', 'a', 'S', 'c', 'i', 'e', 'n', 'c', 'e']"
      ]
     },
     "execution_count": 31,
     "metadata": {},
     "output_type": "execute_result"
    }
   ],
   "source": [
    "s"
   ]
  },
  {
   "cell_type": "code",
   "execution_count": 33,
   "id": "ddd3f4a1-e636-44fd-a64a-1725c1eeed34",
   "metadata": {},
   "outputs": [
    {
     "data": {
      "text/plain": [
       "[10, 11, 12, 13, 14, 15, 16, 17, 18, 19]"
      ]
     },
     "execution_count": 33,
     "metadata": {},
     "output_type": "execute_result"
    }
   ],
   "source": [
    "[i+10 for i in range(10) ]"
   ]
  },
  {
   "cell_type": "code",
   "execution_count": 34,
   "id": "34a81dbe-bd70-422e-81a1-4d357bc349a9",
   "metadata": {},
   "outputs": [],
   "source": [
    "numbers = [1,2,3,4,5,6]"
   ]
  },
  {
   "cell_type": "code",
   "execution_count": 35,
   "id": "bcafe09b-13d2-4e6b-9c6a-b1fa1c7d06ec",
   "metadata": {},
   "outputs": [
    {
     "name": "stdout",
     "output_type": "stream",
     "text": [
      "4\n",
      "16\n",
      "36\n"
     ]
    }
   ],
   "source": [
    "for i in numbers:\n",
    "    if i%2 == 0:\n",
    "        print(i**2)"
   ]
  },
  {
   "cell_type": "code",
   "execution_count": 38,
   "id": "66d89c09-350e-4fee-940a-09835fcd2589",
   "metadata": {},
   "outputs": [
    {
     "data": {
      "text/plain": [
       "[1, 4, 3, 16, 5, 36]"
      ]
     },
     "execution_count": 38,
     "metadata": {},
     "output_type": "execute_result"
    }
   ],
   "source": [
    " [i**2 if i%2==0 else i for i in numbers]"
   ]
  },
  {
   "cell_type": "code",
   "execution_count": 39,
   "id": "90f32a09-b711-4d9d-a4cf-5a78d979e126",
   "metadata": {},
   "outputs": [],
   "source": [
    "names = ['India', 'China', 'Germany', 'Pakistan']"
   ]
  },
  {
   "cell_type": "code",
   "execution_count": 40,
   "id": "5f377bd4-aedf-4144-a675-363d4d9326b5",
   "metadata": {},
   "outputs": [
    {
     "name": "stdout",
     "output_type": "stream",
     "text": [
      "Germany\n",
      "Pakistan\n"
     ]
    }
   ],
   "source": [
    "for i in names:\n",
    "    if len(i) > 5:\n",
    "        print(i)"
   ]
  },
  {
   "cell_type": "code",
   "execution_count": 41,
   "id": "f29bc29f-14b1-4642-8c7c-b400961cbd45",
   "metadata": {},
   "outputs": [
    {
     "data": {
      "text/plain": [
       "['Germany', 'Pakistan']"
      ]
     },
     "execution_count": 41,
     "metadata": {},
     "output_type": "execute_result"
    }
   ],
   "source": [
    "[i for i in names if len(i) > 5]"
   ]
  },
  {
   "cell_type": "code",
   "execution_count": 42,
   "id": "6ee0e8dd-209c-45a3-870a-acba38be9175",
   "metadata": {},
   "outputs": [
    {
     "data": {
      "text/plain": [
       "[4, 16, 36]"
      ]
     },
     "execution_count": 42,
     "metadata": {},
     "output_type": "execute_result"
    }
   ],
   "source": [
    "[i**2 for i in numbers if i%2==0]"
   ]
  },
  {
   "cell_type": "code",
   "execution_count": 44,
   "id": "a9371779-a066-45ba-b072-b41096c5d653",
   "metadata": {},
   "outputs": [
    {
     "data": {
      "text/plain": [
       "{0: 0, 1: 1, 2: 2, 3: 3, 4: 4}"
      ]
     },
     "execution_count": 44,
     "metadata": {},
     "output_type": "execute_result"
    }
   ],
   "source": [
    "{i:i for i in range(5)}"
   ]
  },
  {
   "cell_type": "code",
   "execution_count": 45,
   "id": "9dc1e508-7d94-4d7a-b096-bd26bceee3ba",
   "metadata": {},
   "outputs": [
    {
     "data": {
      "text/plain": [
       "{0: 0, 1: 1, 2: 4, 3: 9, 4: 16}"
      ]
     },
     "execution_count": 45,
     "metadata": {},
     "output_type": "execute_result"
    }
   ],
   "source": [
    "{i:i**2 for i  in range(5)}"
   ]
  },
  {
   "cell_type": "code",
   "execution_count": 49,
   "id": "0513f94a-aaa7-4665-a1c0-fa403786cf87",
   "metadata": {},
   "outputs": [
    {
     "data": {
      "text/plain": [
       "(0, 1, 2, 3)"
      ]
     },
     "execution_count": 49,
     "metadata": {},
     "output_type": "execute_result"
    }
   ],
   "source": [
    "tuple(i for i in range(4))"
   ]
  },
  {
   "cell_type": "code",
   "execution_count": 50,
   "id": "f5c276e4-4937-47b0-9913-06ad533e6c6a",
   "metadata": {},
   "outputs": [],
   "source": [
    "# Iterator and generator"
   ]
  },
  {
   "cell_type": "code",
   "execution_count": null,
   "id": "a3a1ea23-2d4c-4a76-8b8b-e1c94d74b253",
   "metadata": {},
   "outputs": [],
   "source": []
  }
 ],
 "metadata": {
  "kernelspec": {
   "display_name": "Python 3 (ipykernel)",
   "language": "python",
   "name": "python3"
  },
  "language_info": {
   "codemirror_mode": {
    "name": "ipython",
    "version": 3
   },
   "file_extension": ".py",
   "mimetype": "text/x-python",
   "name": "python",
   "nbconvert_exporter": "python",
   "pygments_lexer": "ipython3",
   "version": "3.11.7"
  }
 },
 "nbformat": 4,
 "nbformat_minor": 5
}
