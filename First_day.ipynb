{
 "cells": [
  {
   "cell_type": "markdown",
   "id": "0ae60327-21a6-4ada-b831-63cc0a269764",
   "metadata": {},
   "source": [
    "# Data Types"
   ]
  },
  {
   "cell_type": "markdown",
   "id": "30e0080e-7e91-4f91-8637-cb78ef2b5558",
   "metadata": {},
   "source": [
    "This is my first python class"
   ]
  },
  {
   "cell_type": "markdown",
   "id": "a1a2767f-4bc2-4147-ae42-3d858c08ffe5",
   "metadata": {},
   "source": [
    "# INT"
   ]
  },
  {
   "cell_type": "code",
   "execution_count": 2,
   "id": "f0323757-bc5b-46bf-84c6-256c16510edd",
   "metadata": {},
   "outputs": [
    {
     "data": {
      "text/plain": [
       "int"
      ]
     },
     "execution_count": 2,
     "metadata": {},
     "output_type": "execute_result"
    }
   ],
   "source": [
    "type(5)"
   ]
  },
  {
   "cell_type": "markdown",
   "id": "99effc70-9a72-4112-be96-f076d19efcc2",
   "metadata": {},
   "source": [
    "# Float"
   ]
  },
  {
   "cell_type": "code",
   "execution_count": 3,
   "id": "11565e97-7165-4322-9613-13b701ce424e",
   "metadata": {},
   "outputs": [
    {
     "data": {
      "text/plain": [
       "float"
      ]
     },
     "execution_count": 3,
     "metadata": {},
     "output_type": "execute_result"
    }
   ],
   "source": [
    "type(5.8)"
   ]
  },
  {
   "cell_type": "markdown",
   "id": "d60db325-d634-4646-9d6f-69e6c75d062a",
   "metadata": {},
   "source": [
    "# Complex Numbers"
   ]
  },
  {
   "cell_type": "code",
   "execution_count": 4,
   "id": "d22d7920-f6b6-473c-aefd-7a8936021f13",
   "metadata": {},
   "outputs": [
    {
     "data": {
      "text/plain": [
       "complex"
      ]
     },
     "execution_count": 4,
     "metadata": {},
     "output_type": "execute_result"
    }
   ],
   "source": [
    "type(10 + 5j)"
   ]
  },
  {
   "cell_type": "markdown",
   "id": "d25274ef-d1c6-4b98-8a5a-5e4c39b97e27",
   "metadata": {},
   "source": [
    "# String"
   ]
  },
  {
   "cell_type": "code",
   "execution_count": 5,
   "id": "573e4753-cb3d-493c-b315-1e654f37c7de",
   "metadata": {},
   "outputs": [
    {
     "data": {
      "text/plain": [
       "str"
      ]
     },
     "execution_count": 5,
     "metadata": {},
     "output_type": "execute_result"
    }
   ],
   "source": [
    "type(\"DATA\")"
   ]
  },
  {
   "cell_type": "markdown",
   "id": "3778d64a-6890-4222-aaaa-8beaf8b1491b",
   "metadata": {},
   "source": [
    "# Boolean Values"
   ]
  },
  {
   "cell_type": "code",
   "execution_count": 6,
   "id": "05a26cf4-b6f1-4c13-9029-653c725bdbd0",
   "metadata": {},
   "outputs": [
    {
     "data": {
      "text/plain": [
       "bool"
      ]
     },
     "execution_count": 6,
     "metadata": {},
     "output_type": "execute_result"
    }
   ],
   "source": [
    "type(True)"
   ]
  },
  {
   "cell_type": "code",
   "execution_count": 7,
   "id": "f9e7096e-4a7f-4fdd-b8d7-8b5bd91245f2",
   "metadata": {},
   "outputs": [
    {
     "data": {
      "text/plain": [
       "bool"
      ]
     },
     "execution_count": 7,
     "metadata": {},
     "output_type": "execute_result"
    }
   ],
   "source": [
    "type(False)"
   ]
  }
 ],
 "metadata": {
  "kernelspec": {
   "display_name": "Python 3 (ipykernel)",
   "language": "python",
   "name": "python3"
  },
  "language_info": {
   "codemirror_mode": {
    "name": "ipython",
    "version": 3
   },
   "file_extension": ".py",
   "mimetype": "text/x-python",
   "name": "python",
   "nbconvert_exporter": "python",
   "pygments_lexer": "ipython3",
   "version": "3.11.7"
  }
 },
 "nbformat": 4,
 "nbformat_minor": 5
}
