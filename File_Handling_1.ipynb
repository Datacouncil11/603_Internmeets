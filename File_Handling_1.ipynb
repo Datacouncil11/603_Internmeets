{
 "cells": [
  {
   "cell_type": "code",
   "execution_count": 6,
   "id": "bfb814a7-11bb-4ee8-bad4-0b059693f059",
   "metadata": {},
   "outputs": [],
   "source": [
    "f = open('Test1.txt', 'w' ) #Written"
   ]
  },
  {
   "cell_type": "code",
   "execution_count": 7,
   "id": "0df4e75d-3adc-4bd8-abce-166d2b2505cb",
   "metadata": {},
   "outputs": [
    {
     "data": {
      "text/plain": [
       "45"
      ]
     },
     "execution_count": 7,
     "metadata": {},
     "output_type": "execute_result"
    }
   ],
   "source": [
    "f.write('I am Learning Data Science With Generative AI')"
   ]
  },
  {
   "cell_type": "code",
   "execution_count": 8,
   "id": "4566d3e7-e949-436f-80ec-b21c7e42f69d",
   "metadata": {},
   "outputs": [],
   "source": [
    "f.close()"
   ]
  },
  {
   "cell_type": "code",
   "execution_count": null,
   "id": "cd5082a3-f16c-41f2-a8c3-cce704880b55",
   "metadata": {},
   "outputs": [],
   "source": []
  },
  {
   "cell_type": "code",
   "execution_count": 9,
   "id": "fc508523-92e3-427d-bcae-b27aa03987f4",
   "metadata": {},
   "outputs": [],
   "source": [
    "s = open('Test1.txt', 'r') #read mode"
   ]
  },
  {
   "cell_type": "code",
   "execution_count": 10,
   "id": "6c5ea1e7-4a6d-4467-9b3f-1b6fbe05cb66",
   "metadata": {},
   "outputs": [
    {
     "data": {
      "text/plain": [
       "'I am Learning Data Science With Generative AI'"
      ]
     },
     "execution_count": 10,
     "metadata": {},
     "output_type": "execute_result"
    }
   ],
   "source": [
    "s.read()"
   ]
  },
  {
   "cell_type": "code",
   "execution_count": 11,
   "id": "9dc57830-6b43-40b2-a8c5-3798ae98f324",
   "metadata": {},
   "outputs": [
    {
     "data": {
      "text/plain": [
       "''"
      ]
     },
     "execution_count": 11,
     "metadata": {},
     "output_type": "execute_result"
    }
   ],
   "source": [
    "s.read()"
   ]
  },
  {
   "cell_type": "code",
   "execution_count": 12,
   "id": "4f498a2f-6100-4d06-abcb-e0009ea0d557",
   "metadata": {},
   "outputs": [
    {
     "data": {
      "text/plain": [
       "0"
      ]
     },
     "execution_count": 12,
     "metadata": {},
     "output_type": "execute_result"
    }
   ],
   "source": [
    "s.seek(0)"
   ]
  },
  {
   "cell_type": "code",
   "execution_count": 13,
   "id": "645374de-2d1f-40d8-bd7c-84b4acacd6f3",
   "metadata": {},
   "outputs": [
    {
     "data": {
      "text/plain": [
       "'I am Learning Data Science With Generative AI'"
      ]
     },
     "execution_count": 13,
     "metadata": {},
     "output_type": "execute_result"
    }
   ],
   "source": [
    "s.read()"
   ]
  },
  {
   "cell_type": "code",
   "execution_count": 14,
   "id": "13e0fbe3-9aa8-4808-a946-708f060b55ba",
   "metadata": {},
   "outputs": [
    {
     "data": {
      "text/plain": [
       "4"
      ]
     },
     "execution_count": 14,
     "metadata": {},
     "output_type": "execute_result"
    }
   ],
   "source": [
    "s.seek(4)"
   ]
  },
  {
   "cell_type": "code",
   "execution_count": 15,
   "id": "aae9a580-5c56-4b0e-83af-823df9a1406c",
   "metadata": {},
   "outputs": [
    {
     "data": {
      "text/plain": [
       "' Learning Data Science With Generative AI'"
      ]
     },
     "execution_count": 15,
     "metadata": {},
     "output_type": "execute_result"
    }
   ],
   "source": [
    "s.read()"
   ]
  },
  {
   "cell_type": "code",
   "execution_count": 16,
   "id": "cc2cbf4b-501e-4c02-aef0-02f978eb7220",
   "metadata": {},
   "outputs": [
    {
     "ename": "UnsupportedOperation",
     "evalue": "not writable",
     "output_type": "error",
     "traceback": [
      "\u001b[1;31m---------------------------------------------------------------------------\u001b[0m",
      "\u001b[1;31mUnsupportedOperation\u001b[0m                      Traceback (most recent call last)",
      "Cell \u001b[1;32mIn[16], line 1\u001b[0m\n\u001b[1;32m----> 1\u001b[0m s\u001b[38;5;241m.\u001b[39mwrite(\u001b[38;5;124m'\u001b[39m\u001b[38;5;124mThis is my second sentence\u001b[39m\u001b[38;5;124m'\u001b[39m)\n",
      "\u001b[1;31mUnsupportedOperation\u001b[0m: not writable"
     ]
    }
   ],
   "source": [
    "s.write('This is my second sentence')"
   ]
  },
  {
   "cell_type": "code",
   "execution_count": 17,
   "id": "95193c3f-36f9-4fb3-929a-2b7f177cb829",
   "metadata": {},
   "outputs": [],
   "source": [
    "s.close()"
   ]
  },
  {
   "cell_type": "code",
   "execution_count": null,
   "id": "512b6ba5-3269-4590-b6f2-de27ee65de7d",
   "metadata": {},
   "outputs": [],
   "source": []
  },
  {
   "cell_type": "code",
   "execution_count": 18,
   "id": "02117307-a7cd-4cd7-a6a6-c26b1e6069dd",
   "metadata": {},
   "outputs": [],
   "source": [
    "d = open('Test1.txt', 'r+') #Read + Write both modes "
   ]
  },
  {
   "cell_type": "code",
   "execution_count": 19,
   "id": "e2d53a72-7376-41f1-85e2-3d9c6d837e67",
   "metadata": {},
   "outputs": [
    {
     "data": {
      "text/plain": [
       "'I am Learning Data Science With Generative AI'"
      ]
     },
     "execution_count": 19,
     "metadata": {},
     "output_type": "execute_result"
    }
   ],
   "source": [
    "d.read()"
   ]
  },
  {
   "cell_type": "code",
   "execution_count": 20,
   "id": "e63531e3-3024-4192-9f52-30322e55ee37",
   "metadata": {},
   "outputs": [
    {
     "data": {
      "text/plain": [
       "0"
      ]
     },
     "execution_count": 20,
     "metadata": {},
     "output_type": "execute_result"
    }
   ],
   "source": [
    "d.seek(0)"
   ]
  },
  {
   "cell_type": "code",
   "execution_count": 21,
   "id": "21972e87-854a-4b74-b1fb-02722234da2b",
   "metadata": {},
   "outputs": [
    {
     "data": {
      "text/plain": [
       "26"
      ]
     },
     "execution_count": 21,
     "metadata": {},
     "output_type": "execute_result"
    }
   ],
   "source": [
    "d.write('This is my second sentence')"
   ]
  },
  {
   "cell_type": "code",
   "execution_count": 22,
   "id": "2ed6a233-944a-492c-98aa-e049de20c19e",
   "metadata": {},
   "outputs": [
    {
     "data": {
      "text/plain": [
       "' With Generative AI'"
      ]
     },
     "execution_count": 22,
     "metadata": {},
     "output_type": "execute_result"
    }
   ],
   "source": [
    "d.read()"
   ]
  },
  {
   "cell_type": "code",
   "execution_count": 23,
   "id": "0a9ce17b-fafe-4713-a95f-af15b95da85b",
   "metadata": {},
   "outputs": [
    {
     "data": {
      "text/plain": [
       "0"
      ]
     },
     "execution_count": 23,
     "metadata": {},
     "output_type": "execute_result"
    }
   ],
   "source": [
    "d.seek(0)"
   ]
  },
  {
   "cell_type": "code",
   "execution_count": 24,
   "id": "92c83608-d69d-49d8-babb-aeac67d12396",
   "metadata": {},
   "outputs": [
    {
     "data": {
      "text/plain": [
       "'This is my second sentence With Generative AI'"
      ]
     },
     "execution_count": 24,
     "metadata": {},
     "output_type": "execute_result"
    }
   ],
   "source": [
    "d.read()"
   ]
  },
  {
   "cell_type": "code",
   "execution_count": 25,
   "id": "a20aabbe-d77b-40ec-b340-3229201e734e",
   "metadata": {},
   "outputs": [
    {
     "data": {
      "text/plain": [
       "25"
      ]
     },
     "execution_count": 25,
     "metadata": {},
     "output_type": "execute_result"
    }
   ],
   "source": [
    "d.write('This is my third sentence')"
   ]
  },
  {
   "cell_type": "code",
   "execution_count": 26,
   "id": "3e7c0110-ef51-42dc-b971-5e3b4f2253c2",
   "metadata": {},
   "outputs": [
    {
     "data": {
      "text/plain": [
       "''"
      ]
     },
     "execution_count": 26,
     "metadata": {},
     "output_type": "execute_result"
    }
   ],
   "source": [
    "d.read()"
   ]
  },
  {
   "cell_type": "code",
   "execution_count": 27,
   "id": "86d575f6-f699-4dff-a8a2-93330bf9c845",
   "metadata": {},
   "outputs": [
    {
     "data": {
      "text/plain": [
       "0"
      ]
     },
     "execution_count": 27,
     "metadata": {},
     "output_type": "execute_result"
    }
   ],
   "source": [
    "d.seek(0)"
   ]
  },
  {
   "cell_type": "code",
   "execution_count": 28,
   "id": "fe0a68e5-6530-4863-b695-54c12937510e",
   "metadata": {},
   "outputs": [
    {
     "data": {
      "text/plain": [
       "'This is my second sentence With Generative AIThis is my third sentence'"
      ]
     },
     "execution_count": 28,
     "metadata": {},
     "output_type": "execute_result"
    }
   ],
   "source": [
    "d.read()"
   ]
  },
  {
   "cell_type": "code",
   "execution_count": 29,
   "id": "28468db6-0b3c-4889-b4d3-86304baf3690",
   "metadata": {},
   "outputs": [
    {
     "data": {
      "text/plain": [
       "27"
      ]
     },
     "execution_count": 29,
     "metadata": {},
     "output_type": "execute_result"
    }
   ],
   "source": [
    "d.write(' This is my fourth sentence')"
   ]
  },
  {
   "cell_type": "code",
   "execution_count": 30,
   "id": "39c595de-b8f5-4a39-b1e7-be541f221ac5",
   "metadata": {},
   "outputs": [
    {
     "data": {
      "text/plain": [
       "0"
      ]
     },
     "execution_count": 30,
     "metadata": {},
     "output_type": "execute_result"
    }
   ],
   "source": [
    "d.seek(0)"
   ]
  },
  {
   "cell_type": "code",
   "execution_count": 31,
   "id": "38c1dc01-fd61-4487-8279-16824c0078a0",
   "metadata": {},
   "outputs": [
    {
     "data": {
      "text/plain": [
       "'This is my second sentence With Generative AIThis is my third sentence This is my fourth sentence'"
      ]
     },
     "execution_count": 31,
     "metadata": {},
     "output_type": "execute_result"
    }
   ],
   "source": [
    "d.read()"
   ]
  },
  {
   "cell_type": "code",
   "execution_count": 32,
   "id": "e20f6a0c-7125-4fc6-bcff-2f7a08c6bbe7",
   "metadata": {},
   "outputs": [
    {
     "data": {
      "text/plain": [
       "27"
      ]
     },
     "execution_count": 32,
     "metadata": {},
     "output_type": "execute_result"
    }
   ],
   "source": [
    "d.write('. This is my fifth sentence')"
   ]
  },
  {
   "cell_type": "code",
   "execution_count": 33,
   "id": "c55a9a3f-60f3-45ed-9631-e6ea99e1ccf1",
   "metadata": {},
   "outputs": [
    {
     "data": {
      "text/plain": [
       "0"
      ]
     },
     "execution_count": 33,
     "metadata": {},
     "output_type": "execute_result"
    }
   ],
   "source": [
    "d.seek(0)"
   ]
  },
  {
   "cell_type": "code",
   "execution_count": 34,
   "id": "cd773812-f4e0-4f2c-bbcd-732b1545a410",
   "metadata": {},
   "outputs": [
    {
     "data": {
      "text/plain": [
       "'This is my second sentence With Generative AIThis is my third sentence This is my fourth sentence. This is my fifth sentence'"
      ]
     },
     "execution_count": 34,
     "metadata": {},
     "output_type": "execute_result"
    }
   ],
   "source": [
    "d.read()"
   ]
  },
  {
   "cell_type": "code",
   "execution_count": 37,
   "id": "50062b5b-c0ab-4ee8-99c7-006649c1fd9d",
   "metadata": {},
   "outputs": [
    {
     "data": {
      "text/plain": [
       "0"
      ]
     },
     "execution_count": 37,
     "metadata": {},
     "output_type": "execute_result"
    }
   ],
   "source": [
    "d.seek(0)"
   ]
  },
  {
   "cell_type": "code",
   "execution_count": 38,
   "id": "8cb76460-2b6c-4063-b750-56d71767ab86",
   "metadata": {},
   "outputs": [],
   "source": [
    "l = []\n",
    "for i in d.read():\n",
    "    l.append(i)"
   ]
  },
  {
   "cell_type": "code",
   "execution_count": 39,
   "id": "5c5e902a-c0bf-4a5e-befd-ef0fefffa5ef",
   "metadata": {},
   "outputs": [
    {
     "data": {
      "text/plain": [
       "['T',\n",
       " 'h',\n",
       " 'i',\n",
       " 's',\n",
       " ' ',\n",
       " 'i',\n",
       " 's',\n",
       " ' ',\n",
       " 'm',\n",
       " 'y',\n",
       " ' ',\n",
       " 's',\n",
       " 'e',\n",
       " 'c',\n",
       " 'o',\n",
       " 'n',\n",
       " 'd',\n",
       " ' ',\n",
       " 's',\n",
       " 'e',\n",
       " 'n',\n",
       " 't',\n",
       " 'e',\n",
       " 'n',\n",
       " 'c',\n",
       " 'e',\n",
       " ' ',\n",
       " 'W',\n",
       " 'i',\n",
       " 't',\n",
       " 'h',\n",
       " ' ',\n",
       " 'G',\n",
       " 'e',\n",
       " 'n',\n",
       " 'e',\n",
       " 'r',\n",
       " 'a',\n",
       " 't',\n",
       " 'i',\n",
       " 'v',\n",
       " 'e',\n",
       " ' ',\n",
       " 'A',\n",
       " 'I',\n",
       " 'T',\n",
       " 'h',\n",
       " 'i',\n",
       " 's',\n",
       " ' ',\n",
       " 'i',\n",
       " 's',\n",
       " ' ',\n",
       " 'm',\n",
       " 'y',\n",
       " ' ',\n",
       " 't',\n",
       " 'h',\n",
       " 'i',\n",
       " 'r',\n",
       " 'd',\n",
       " ' ',\n",
       " 's',\n",
       " 'e',\n",
       " 'n',\n",
       " 't',\n",
       " 'e',\n",
       " 'n',\n",
       " 'c',\n",
       " 'e',\n",
       " ' ',\n",
       " 'T',\n",
       " 'h',\n",
       " 'i',\n",
       " 's',\n",
       " ' ',\n",
       " 'i',\n",
       " 's',\n",
       " ' ',\n",
       " 'm',\n",
       " 'y',\n",
       " ' ',\n",
       " 'f',\n",
       " 'o',\n",
       " 'u',\n",
       " 'r',\n",
       " 't',\n",
       " 'h',\n",
       " ' ',\n",
       " 's',\n",
       " 'e',\n",
       " 'n',\n",
       " 't',\n",
       " 'e',\n",
       " 'n',\n",
       " 'c',\n",
       " 'e',\n",
       " '.',\n",
       " ' ',\n",
       " 'T',\n",
       " 'h',\n",
       " 'i',\n",
       " 's',\n",
       " ' ',\n",
       " 'i',\n",
       " 's',\n",
       " ' ',\n",
       " 'm',\n",
       " 'y',\n",
       " ' ',\n",
       " 'f',\n",
       " 'i',\n",
       " 'f',\n",
       " 't',\n",
       " 'h',\n",
       " ' ',\n",
       " 's',\n",
       " 'e',\n",
       " 'n',\n",
       " 't',\n",
       " 'e',\n",
       " 'n',\n",
       " 'c',\n",
       " 'e']"
      ]
     },
     "execution_count": 39,
     "metadata": {},
     "output_type": "execute_result"
    }
   ],
   "source": [
    "l"
   ]
  },
  {
   "cell_type": "code",
   "execution_count": null,
   "id": "210380ac-3b63-4217-ab5d-5624e10da5d1",
   "metadata": {},
   "outputs": [],
   "source": []
  }
 ],
 "metadata": {
  "kernelspec": {
   "display_name": "Python 3 (ipykernel)",
   "language": "python",
   "name": "python3"
  },
  "language_info": {
   "codemirror_mode": {
    "name": "ipython",
    "version": 3
   },
   "file_extension": ".py",
   "mimetype": "text/x-python",
   "name": "python",
   "nbconvert_exporter": "python",
   "pygments_lexer": "ipython3",
   "version": "3.11.7"
  }
 },
 "nbformat": 4,
 "nbformat_minor": 5
}
