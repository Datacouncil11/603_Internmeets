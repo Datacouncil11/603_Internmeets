{
 "cells": [
  {
   "cell_type": "code",
   "execution_count": 1,
   "id": "dafd0aaa-6aad-4ae6-912f-60560f9e466a",
   "metadata": {},
   "outputs": [
    {
     "ename": "NameError",
     "evalue": "name 'test' is not defined",
     "output_type": "error",
     "traceback": [
      "\u001b[1;31m---------------------------------------------------------------------------\u001b[0m",
      "\u001b[1;31mNameError\u001b[0m                                 Traceback (most recent call last)",
      "Cell \u001b[1;32mIn[1], line 1\u001b[0m\n\u001b[1;32m----> 1\u001b[0m test(\u001b[38;5;241m5\u001b[39m,\u001b[38;5;241m7\u001b[39m)\n",
      "\u001b[1;31mNameError\u001b[0m: name 'test' is not defined"
     ]
    }
   ],
   "source": [
    "test(5,7)"
   ]
  },
  {
   "cell_type": "code",
   "execution_count": 2,
   "id": "8ed4a6bb-50fd-4b13-b927-a7208fb3945c",
   "metadata": {},
   "outputs": [],
   "source": [
    "import my_text1"
   ]
  },
  {
   "cell_type": "code",
   "execution_count": 3,
   "id": "53f94543-638b-4063-9041-49cb705914cf",
   "metadata": {},
   "outputs": [
    {
     "data": {
      "text/plain": [
       "15"
      ]
     },
     "execution_count": 3,
     "metadata": {},
     "output_type": "execute_result"
    }
   ],
   "source": [
    "my_text1.test1(10,5)"
   ]
  },
  {
   "cell_type": "code",
   "execution_count": 4,
   "id": "bed3874b-ec07-465d-8f57-439626e6d612",
   "metadata": {},
   "outputs": [],
   "source": [
    "import number_game"
   ]
  },
  {
   "cell_type": "code",
   "execution_count": 5,
   "id": "c85470a9-02dd-4144-bfe7-7b4c3cae1949",
   "metadata": {},
   "outputs": [
    {
     "data": {
      "text/plain": [
       "35"
      ]
     },
     "execution_count": 5,
     "metadata": {},
     "output_type": "execute_result"
    }
   ],
   "source": [
    "number_game.test4(5,7)"
   ]
  },
  {
   "cell_type": "code",
   "execution_count": 6,
   "id": "c1416c41-c532-43bd-8ea2-0f2d03e7696a",
   "metadata": {},
   "outputs": [
    {
     "data": {
      "text/plain": [
       "-2"
      ]
     },
     "execution_count": 6,
     "metadata": {},
     "output_type": "execute_result"
    }
   ],
   "source": [
    "number_game.test3(1,3)"
   ]
  },
  {
   "cell_type": "code",
   "execution_count": 7,
   "id": "c7544af7-b6c2-4598-8ea6-602e4192803b",
   "metadata": {},
   "outputs": [
    {
     "data": {
      "text/plain": [
       "4"
      ]
     },
     "execution_count": 7,
     "metadata": {},
     "output_type": "execute_result"
    }
   ],
   "source": [
    "number_game.test2(1,3)"
   ]
  },
  {
   "cell_type": "code",
   "execution_count": 8,
   "id": "205c6498-d964-4167-a16c-236349b59758",
   "metadata": {},
   "outputs": [],
   "source": [
    "l = [1,2,3,4]"
   ]
  },
  {
   "cell_type": "code",
   "execution_count": null,
   "id": "b780666c-9387-478a-ac64-a1dff857a7e3",
   "metadata": {},
   "outputs": [],
   "source": [
    "print()\n",
    "type()\n"
   ]
  },
  {
   "cell_type": "code",
   "execution_count": 10,
   "id": "a0168f93-495a-4c4a-9233-4b3a6540fd56",
   "metadata": {},
   "outputs": [
    {
     "name": "stdout",
     "output_type": "stream",
     "text": [
      "1\n",
      "2\n",
      "3\n",
      "4\n",
      "5\n"
     ]
    }
   ],
   "source": [
    "for i in range(5):\n",
    "    print(number_game.test2(i,1))"
   ]
  },
  {
   "cell_type": "code",
   "execution_count": 13,
   "id": "2618e7fd-2a10-477e-a556-6cbd4b1476ca",
   "metadata": {},
   "outputs": [],
   "source": [
    "l = []\n",
    "for i in range(5):\n",
    "    l.append(number_game.test2(i,1))\n",
    "    "
   ]
  },
  {
   "cell_type": "code",
   "execution_count": 14,
   "id": "71cd4eb0-f098-4367-8be7-f86591192b8f",
   "metadata": {},
   "outputs": [
    {
     "data": {
      "text/plain": [
       "[1, 2, 3, 4, 5]"
      ]
     },
     "execution_count": 14,
     "metadata": {},
     "output_type": "execute_result"
    }
   ],
   "source": [
    "l"
   ]
  },
  {
   "cell_type": "code",
   "execution_count": 1,
   "id": "5ad4f285-2d9f-4772-934e-cba456fa5c6c",
   "metadata": {},
   "outputs": [],
   "source": [
    "import number_game"
   ]
  },
  {
   "cell_type": "code",
   "execution_count": 2,
   "id": "afbc1d32-a1c2-4b22-9ca5-363c3ca9bc5e",
   "metadata": {},
   "outputs": [
    {
     "data": {
      "text/plain": [
       "[1, 23]"
      ]
     },
     "execution_count": 2,
     "metadata": {},
     "output_type": "execute_result"
    }
   ],
   "source": [
    "number_game.int_filter(1,2.5,'Data',23,True)"
   ]
  },
  {
   "cell_type": "code",
   "execution_count": null,
   "id": "18a762b5-e312-49f4-9468-088966e7e3bf",
   "metadata": {},
   "outputs": [],
   "source": [
    "def test7():\n",
    "    for i in z:\n",
    "        "
   ]
  },
  {
   "cell_type": "code",
   "execution_count": 1,
   "id": "33566be2-6bc5-4938-970b-e480b91eea7d",
   "metadata": {},
   "outputs": [],
   "source": [
    "import number_game"
   ]
  },
  {
   "cell_type": "code",
   "execution_count": 2,
   "id": "a041f067-c99a-4bf3-996e-9715c2b308b8",
   "metadata": {},
   "outputs": [
    {
     "data": {
      "text/plain": [
       "'I am inside number_game module and I am My_dir function'"
      ]
     },
     "execution_count": 2,
     "metadata": {},
     "output_type": "execute_result"
    }
   ],
   "source": [
    "number_game.my_dir()"
   ]
  },
  {
   "cell_type": "code",
   "execution_count": null,
   "id": "5c522b4f-9ea1-4aa0-b1c5-6b506115da40",
   "metadata": {},
   "outputs": [],
   "source": [
    "number_game.int_filter()"
   ]
  }
 ],
 "metadata": {
  "kernelspec": {
   "display_name": "Python 3 (ipykernel)",
   "language": "python",
   "name": "python3"
  },
  "language_info": {
   "codemirror_mode": {
    "name": "ipython",
    "version": 3
   },
   "file_extension": ".py",
   "mimetype": "text/x-python",
   "name": "python",
   "nbconvert_exporter": "python",
   "pygments_lexer": "ipython3",
   "version": "3.11.7"
  }
 },
 "nbformat": 4,
 "nbformat_minor": 5
}
