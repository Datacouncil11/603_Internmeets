{
 "cells": [
  {
   "cell_type": "code",
   "execution_count": 9,
   "id": "3a145b71-97a6-4cdf-98e5-08555aa981c4",
   "metadata": {},
   "outputs": [
    {
     "name": "stdin",
     "output_type": "stream",
     "text": [
      " 23\n"
     ]
    },
    {
     "name": "stdout",
     "output_type": "stream",
     "text": [
      "Fail range is 0 to 35\n"
     ]
    }
   ],
   "source": [
    "marks = int(input())\n",
    "if marks > 90 and marks < 100:\n",
    "    print('Between 90-100')\n",
    "elif marks > 50 and marks < 90:\n",
    "    print('Between 50 - 90')\n",
    "elif marks > 35 and marks < 50:\n",
    "    print('Between 35-50')\n",
    "elif marks > 0 and marks < 35:\n",
    "    print('Fail range is 0 to 35')\n",
    "else:\n",
    "    print('Please write proper marks')"
   ]
  },
  {
   "cell_type": "code",
   "execution_count": 11,
   "id": "eee05c1b-2206-40bf-911a-4f021f3a3041",
   "metadata": {},
   "outputs": [
    {
     "name": "stdin",
     "output_type": "stream",
     "text": [
      " NEW50\n"
     ]
    },
    {
     "name": "stdout",
     "output_type": "stream",
     "text": [
      "You have discount of 50$\n"
     ]
    }
   ],
   "source": [
    "coupon_code = input()\n",
    "if coupon_code == 'NEW100':\n",
    "    print('You have a discount of 100$')\n",
    "elif coupon_code == 'NEW50':\n",
    "    print('You have discount of 50$')\n",
    "else:\n",
    "    print('Please use valid coupon')"
   ]
  },
  {
   "cell_type": "markdown",
   "id": "0b85c252-ed4f-41d8-a211-9adc9ea5fc89",
   "metadata": {},
   "source": [
    "# For Loop"
   ]
  },
  {
   "cell_type": "code",
   "execution_count": 12,
   "id": "0f1e556b-97df-4c7a-baba-896b44a159e3",
   "metadata": {},
   "outputs": [
    {
     "data": {
      "text/plain": [
       "range(1, 11)"
      ]
     },
     "execution_count": 12,
     "metadata": {},
     "output_type": "execute_result"
    }
   ],
   "source": [
    "range(1,11)"
   ]
  },
  {
   "cell_type": "code",
   "execution_count": 13,
   "id": "e9fcc358-28c7-4f21-9eab-420c4f168a2c",
   "metadata": {},
   "outputs": [
    {
     "data": {
      "text/plain": [
       "[1, 2, 3, 4, 5, 6, 7, 8, 9, 10]"
      ]
     },
     "execution_count": 13,
     "metadata": {},
     "output_type": "execute_result"
    }
   ],
   "source": [
    "list(range(1,11))"
   ]
  },
  {
   "cell_type": "code",
   "execution_count": 17,
   "id": "21955ecb-04c6-47c8-baaa-810e5f423d77",
   "metadata": {},
   "outputs": [
    {
     "data": {
      "text/plain": [
       "[2, 4, 6, 8, 10]"
      ]
     },
     "execution_count": 17,
     "metadata": {},
     "output_type": "execute_result"
    }
   ],
   "source": [
    "list(range(2,11,2))"
   ]
  },
  {
   "cell_type": "code",
   "execution_count": 18,
   "id": "5fcd82ab-2b75-49cf-8304-8280111422f4",
   "metadata": {},
   "outputs": [],
   "source": [
    "l = [1,2,3,4,5]"
   ]
  },
  {
   "cell_type": "code",
   "execution_count": 19,
   "id": "149236c6-6130-4005-916b-743dbf08b223",
   "metadata": {},
   "outputs": [
    {
     "name": "stdout",
     "output_type": "stream",
     "text": [
      "1\n",
      "2\n",
      "3\n",
      "4\n",
      "5\n"
     ]
    }
   ],
   "source": [
    "for num in l:\n",
    "    print(num)"
   ]
  },
  {
   "cell_type": "code",
   "execution_count": 20,
   "id": "cd35a671-22ba-4c07-b6a7-5a60d77ee169",
   "metadata": {},
   "outputs": [
    {
     "name": "stdout",
     "output_type": "stream",
     "text": [
      "101\n",
      "102\n",
      "103\n",
      "104\n",
      "105\n"
     ]
    }
   ],
   "source": [
    "for num in l:\n",
    "    print(num + 100)"
   ]
  },
  {
   "cell_type": "code",
   "execution_count": 21,
   "id": "c245b942-e079-45af-b4f7-09e0698ca22a",
   "metadata": {},
   "outputs": [
    {
     "name": "stdout",
     "output_type": "stream",
     "text": [
      "0\n",
      "1\n",
      "2\n",
      "3\n",
      "4\n"
     ]
    }
   ],
   "source": [
    "for i in range(5):\n",
    "    print(i)"
   ]
  },
  {
   "cell_type": "code",
   "execution_count": 22,
   "id": "714d9c5b-1749-4d02-b6c2-82096a491558",
   "metadata": {},
   "outputs": [
    {
     "name": "stdout",
     "output_type": "stream",
     "text": [
      "N\n",
      "e\n",
      "w\n",
      "Y\n",
      "e\n",
      "a\n",
      "r\n"
     ]
    }
   ],
   "source": [
    "for i in 'NewYear':\n",
    "    print(i)"
   ]
  },
  {
   "cell_type": "code",
   "execution_count": 24,
   "id": "33da3fa4-0f12-48af-aad8-e9d4463c710a",
   "metadata": {},
   "outputs": [
    {
     "name": "stdout",
     "output_type": "stream",
     "text": [
      "Data\n",
      "Data\n",
      "Data\n",
      "Data\n",
      "Data\n",
      "Data\n",
      "Data\n"
     ]
    }
   ],
   "source": [
    "for i in 'NewYear':\n",
    "    print('Data')"
   ]
  },
  {
   "cell_type": "code",
   "execution_count": 25,
   "id": "854dfb26-01a6-438a-bbd9-e5cc371ad545",
   "metadata": {},
   "outputs": [],
   "source": [
    "l = [98, 8.4, True, 10+5j, 'New']"
   ]
  },
  {
   "cell_type": "code",
   "execution_count": 26,
   "id": "fa9418db-e265-4061-90be-5018b031a043",
   "metadata": {},
   "outputs": [
    {
     "name": "stdout",
     "output_type": "stream",
     "text": [
      "98\n",
      "8.4\n",
      "True\n",
      "(10+5j)\n",
      "New\n"
     ]
    }
   ],
   "source": [
    "for i in l:\n",
    "    print(i)"
   ]
  },
  {
   "cell_type": "code",
   "execution_count": 27,
   "id": "36bad06b-3114-434c-8d87-d2a80a15b54c",
   "metadata": {},
   "outputs": [
    {
     "name": "stdout",
     "output_type": "stream",
     "text": [
      "[98, 8.4, True, (10+5j), 'New']\n",
      "[98, 8.4, True, (10+5j), 'New']\n",
      "[98, 8.4, True, (10+5j), 'New']\n",
      "[98, 8.4, True, (10+5j), 'New']\n",
      "[98, 8.4, True, (10+5j), 'New']\n"
     ]
    }
   ],
   "source": [
    "for i in l:\n",
    "    print(l)"
   ]
  },
  {
   "cell_type": "code",
   "execution_count": 28,
   "id": "11b332ab-205f-495e-b9a9-ca4423cd50d0",
   "metadata": {},
   "outputs": [
    {
     "name": "stdout",
     "output_type": "stream",
     "text": [
      "<class 'int'>\n",
      "<class 'float'>\n",
      "<class 'bool'>\n",
      "<class 'complex'>\n",
      "<class 'str'>\n"
     ]
    }
   ],
   "source": [
    "for i in l:\n",
    "    print(type(i))"
   ]
  },
  {
   "cell_type": "code",
   "execution_count": 29,
   "id": "4f29bbab-56f9-4dd2-876c-e784bf4b8ef9",
   "metadata": {},
   "outputs": [
    {
     "name": "stdout",
     "output_type": "stream",
     "text": [
      "98 <class 'int'>\n",
      "8.4 <class 'float'>\n",
      "True <class 'bool'>\n",
      "(10+5j) <class 'complex'>\n",
      "New <class 'str'>\n"
     ]
    }
   ],
   "source": [
    "for i in l:\n",
    "    print(i, type(i))"
   ]
  },
  {
   "cell_type": "code",
   "execution_count": 30,
   "id": "074e970a-33c6-4040-8e77-1bea89bbd3df",
   "metadata": {},
   "outputs": [
    {
     "name": "stdout",
     "output_type": "stream",
     "text": [
      "8.4\n"
     ]
    }
   ],
   "source": [
    "for i in l:\n",
    "    if type(i) == float:\n",
    "        print(i)"
   ]
  },
  {
   "cell_type": "code",
   "execution_count": 31,
   "id": "55ef794b-6475-4912-8f66-88903ee06035",
   "metadata": {},
   "outputs": [
    {
     "data": {
      "text/plain": [
       "[98, 8.4, True, (10+5j), 'New']"
      ]
     },
     "execution_count": 31,
     "metadata": {},
     "output_type": "execute_result"
    }
   ],
   "source": [
    "l"
   ]
  },
  {
   "cell_type": "code",
   "execution_count": 33,
   "id": "492fc390-b882-4b11-b3c5-efb88a298a02",
   "metadata": {},
   "outputs": [],
   "source": [
    "k = [(10,11,12), ['Data',1,2,3,4], {1,2,3}, {'a':100, 'b':200}]"
   ]
  },
  {
   "cell_type": "code",
   "execution_count": 34,
   "id": "759a956b-b45a-4790-95b6-9b5370f57a1a",
   "metadata": {},
   "outputs": [
    {
     "name": "stdout",
     "output_type": "stream",
     "text": [
      "(10, 11, 12)\n",
      "['Data', 1, 2, 3, 4]\n",
      "{1, 2, 3}\n",
      "{'a': 100, 'b': 200}\n"
     ]
    }
   ],
   "source": [
    "for i in k:\n",
    "    print(i)"
   ]
  },
  {
   "cell_type": "code",
   "execution_count": 35,
   "id": "7399fd2e-8d1b-4e23-93dd-fa0afa3201c8",
   "metadata": {},
   "outputs": [
    {
     "name": "stdout",
     "output_type": "stream",
     "text": [
      "<class 'tuple'>\n",
      "<class 'list'>\n",
      "<class 'set'>\n",
      "<class 'dict'>\n"
     ]
    }
   ],
   "source": [
    "for i in k:\n",
    "    print(type(i))"
   ]
  },
  {
   "cell_type": "code",
   "execution_count": 36,
   "id": "84eade9f-8f7e-45f1-bd3c-38a8efb9e77d",
   "metadata": {},
   "outputs": [
    {
     "name": "stdout",
     "output_type": "stream",
     "text": [
      "['Data', 1, 2, 3, 4]\n"
     ]
    }
   ],
   "source": [
    "for i in k:\n",
    "    if type(i) == list:\n",
    "        print(i)"
   ]
  },
  {
   "cell_type": "code",
   "execution_count": 37,
   "id": "35fa3e90-ce87-4e87-a9a5-e04ca6cc41bc",
   "metadata": {},
   "outputs": [
    {
     "name": "stdout",
     "output_type": "stream",
     "text": [
      "Data\n",
      "1\n",
      "2\n",
      "3\n",
      "4\n"
     ]
    }
   ],
   "source": [
    "for i in k:\n",
    "    if type(i) == list:\n",
    "        for num in i:\n",
    "            print(num)"
   ]
  },
  {
   "cell_type": "code",
   "execution_count": null,
   "id": "5e6afd1b-1327-46fc-a44e-308fb762068d",
   "metadata": {},
   "outputs": [],
   "source": []
  }
 ],
 "metadata": {
  "kernelspec": {
   "display_name": "Python 3 (ipykernel)",
   "language": "python",
   "name": "python3"
  },
  "language_info": {
   "codemirror_mode": {
    "name": "ipython",
    "version": 3
   },
   "file_extension": ".py",
   "mimetype": "text/x-python",
   "name": "python",
   "nbconvert_exporter": "python",
   "pygments_lexer": "ipython3",
   "version": "3.11.7"
  }
 },
 "nbformat": 4,
 "nbformat_minor": 5
}
