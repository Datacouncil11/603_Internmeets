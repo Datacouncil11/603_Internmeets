{
 "cells": [
  {
   "cell_type": "raw",
   "id": "e6d5974a-91c1-4cba-982d-64baabdd960e",
   "metadata": {},
   "source": [
    "Question 5: Write a program that takes a list of integers and prints each number in the\n",
    "list that is greater than 10."
   ]
  },
  {
   "cell_type": "code",
   "execution_count": 3,
   "id": "51795efb-f424-4e4e-be62-0e5056fd315d",
   "metadata": {},
   "outputs": [],
   "source": [
    "def greater_number(numbers):\n",
    "    l = []\n",
    "    for i in numbers:\n",
    "        if i > 10:\n",
    "            l.append(i)\n",
    "    return l"
   ]
  },
  {
   "cell_type": "code",
   "execution_count": 4,
   "id": "5e8760fa-2ae1-4bd7-b0e8-4af21f5b358f",
   "metadata": {},
   "outputs": [
    {
     "data": {
      "text/plain": [
       "[15, 12, 15]"
      ]
     },
     "execution_count": 4,
     "metadata": {},
     "output_type": "execute_result"
    }
   ],
   "source": [
    "greater_number([2,4,7,8,9,10,15,12,15])"
   ]
  },
  {
   "cell_type": "raw",
   "id": "94254a0e-2cf2-47c8-a626-362eb739a5a6",
   "metadata": {},
   "source": [
    "Question 6: Write a program that takes an integer input from the user and prints the\n",
    "multiplication table for that number up to 10."
   ]
  },
  {
   "cell_type": "code",
   "execution_count": 5,
   "id": "e7541389-9274-4757-a69a-8754f937ba8a",
   "metadata": {},
   "outputs": [],
   "source": [
    "def table(number):\n",
    "    l = []\n",
    "    for i in range(1,11):\n",
    "        l.append(number * i)\n",
    "    return l"
   ]
  },
  {
   "cell_type": "code",
   "execution_count": 7,
   "id": "ab19288c-7bea-44d2-9ab8-400535959182",
   "metadata": {},
   "outputs": [
    {
     "data": {
      "text/plain": [
       "[12, 24, 36, 48, 60, 72, 84, 96, 108, 120]"
      ]
     },
     "execution_count": 7,
     "metadata": {},
     "output_type": "execute_result"
    }
   ],
   "source": [
    "table(12)"
   ]
  },
  {
   "cell_type": "raw",
   "id": "5a18663d-8c3a-4c11-b4f3-f3d0d15c2c35",
   "metadata": {},
   "source": [
    "Question 7: Write a program that prints the numbers from 1 to 5 using a while loop."
   ]
  },
  {
   "cell_type": "code",
   "execution_count": 8,
   "id": "20e35870-6a8c-4f8e-ba03-2ec54df40aba",
   "metadata": {},
   "outputs": [
    {
     "name": "stdout",
     "output_type": "stream",
     "text": [
      "1\n",
      "2\n",
      "3\n",
      "4\n",
      "5\n"
     ]
    }
   ],
   "source": [
    "number = 1 \n",
    "while number < 6:\n",
    "    print(number)\n",
    "    number = number + 1"
   ]
  },
  {
   "cell_type": "raw",
   "id": "65ffb19a-526d-46e4-bd4a-1db1cddedc9c",
   "metadata": {},
   "source": [
    "Question 8: Write a program that takes an integer input from the user and prints the\n",
    "factorial of that number using a while loop."
   ]
  },
  {
   "cell_type": "code",
   "execution_count": 23,
   "id": "d0cd828b-4053-4dda-8706-5c9ab2acab3f",
   "metadata": {},
   "outputs": [
    {
     "name": "stdin",
     "output_type": "stream",
     "text": [
      " 5\n"
     ]
    },
    {
     "data": {
      "text/plain": [
       "120"
      ]
     },
     "execution_count": 23,
     "metadata": {},
     "output_type": "execute_result"
    }
   ],
   "source": [
    "num = int(input())\n",
    "add = 1\n",
    "while num > 0:\n",
    "    add = add * num\n",
    "    num = num -1\n",
    "add "
   ]
  },
  {
   "cell_type": "code",
   "execution_count": 11,
   "id": "3a55a876-e790-4417-80b3-581eab277aea",
   "metadata": {},
   "outputs": [
    {
     "data": {
      "text/plain": [
       "[5, 4, 3, 2]"
      ]
     },
     "execution_count": 11,
     "metadata": {},
     "output_type": "execute_result"
    }
   ],
   "source": [
    "list(range(5,1,-1))"
   ]
  },
  {
   "cell_type": "code",
   "execution_count": 17,
   "id": "7a72148a-f28b-40a1-8633-9c153f211b6a",
   "metadata": {},
   "outputs": [
    {
     "name": "stdout",
     "output_type": "stream",
     "text": [
      "5 4\n",
      "4 3\n",
      "3 2\n",
      "2 1\n",
      "1 0\n"
     ]
    }
   ],
   "source": [
    "for i in range(5,0,-1):\n",
    "    print(i,i-1)"
   ]
  },
  {
   "cell_type": "code",
   "execution_count": 21,
   "id": "e33da2d3-4ad1-4de1-83bb-ff0231a16a58",
   "metadata": {},
   "outputs": [],
   "source": [
    "def factorial(num):\n",
    "    add = 1\n",
    "    while num > 0:\n",
    "        add = add * num\n",
    "        num = num -1\n",
    "    print(add)"
   ]
  },
  {
   "cell_type": "code",
   "execution_count": 22,
   "id": "8f7d632c-8ff5-4793-9134-b4961f1bb6e7",
   "metadata": {},
   "outputs": [
    {
     "name": "stdout",
     "output_type": "stream",
     "text": [
      "120\n"
     ]
    }
   ],
   "source": [
    "factorial(5)"
   ]
  },
  {
   "cell_type": "raw",
   "id": "9cfdc6bf-d68e-465d-b813-0b403f434749",
   "metadata": {},
   "source": [
    ": Write a program that takes a list of integers and calculates the sum of all\n",
    "elements using a while loop."
   ]
  },
  {
   "cell_type": "code",
   "execution_count": 38,
   "id": "8f4a218c-58aa-4d5d-9a5d-a8c12802829b",
   "metadata": {},
   "outputs": [],
   "source": [
    "def sun_elements(l):\n",
    "    add = 0\n",
    "    while l == list:\n",
    "        for i in l:\n",
    "            add = add + i\n",
    "        break\n",
    "    print(add)\n",
    "            "
   ]
  },
  {
   "cell_type": "code",
   "execution_count": 39,
   "id": "c4a9c2c8-fd94-4034-8b9d-5bc6c2cbb37f",
   "metadata": {},
   "outputs": [
    {
     "name": "stdout",
     "output_type": "stream",
     "text": [
      "0\n"
     ]
    }
   ],
   "source": [
    "sun_elements([1,2,3,4,5])"
   ]
  },
  {
   "cell_type": "code",
   "execution_count": 26,
   "id": "a4b1aa59-9882-4fd7-a4ca-1990569514d5",
   "metadata": {},
   "outputs": [],
   "source": [
    "l = 0\n",
    "for i in range(1,6):\n",
    "    l = l + i"
   ]
  },
  {
   "cell_type": "code",
   "execution_count": 27,
   "id": "e3ad8220-4969-49e0-86bc-55af3f0a8522",
   "metadata": {},
   "outputs": [
    {
     "data": {
      "text/plain": [
       "15"
      ]
     },
     "execution_count": 27,
     "metadata": {},
     "output_type": "execute_result"
    }
   ],
   "source": [
    "l"
   ]
  },
  {
   "cell_type": "code",
   "execution_count": 36,
   "id": "ed1e1fa3-381a-499c-b658-d5d92d0dad57",
   "metadata": {},
   "outputs": [],
   "source": [
    "def add_number(num):\n",
    "    add = 0\n",
    "    for i in num:\n",
    "        add = add + i\n",
    "    return add"
   ]
  },
  {
   "cell_type": "code",
   "execution_count": 37,
   "id": "94a8e0c4-36c2-4059-b2a5-130b9499d3d5",
   "metadata": {},
   "outputs": [
    {
     "data": {
      "text/plain": [
       "15"
      ]
     },
     "execution_count": 37,
     "metadata": {},
     "output_type": "execute_result"
    }
   ],
   "source": [
    "add_number([1,2,3,4,5])"
   ]
  },
  {
   "cell_type": "code",
   "execution_count": 42,
   "id": "560928da-3014-49ea-9f2d-b1f3cc316200",
   "metadata": {},
   "outputs": [],
   "source": [
    "def add_while(num):\n",
    "    total = 0\n",
    "    index = 0\n",
    "    while index < len(num):\n",
    "        total = total + num[index]\n",
    "        index = index + 1\n",
    "    return total "
   ]
  },
  {
   "cell_type": "code",
   "execution_count": 43,
   "id": "7b56ca72-7271-48ca-93e4-27efb8f3ff1c",
   "metadata": {},
   "outputs": [
    {
     "data": {
      "text/plain": [
       "15"
      ]
     },
     "execution_count": 43,
     "metadata": {},
     "output_type": "execute_result"
    }
   ],
   "source": [
    "add_while([1,2,3,4,5])"
   ]
  },
  {
   "cell_type": "code",
   "execution_count": 45,
   "id": "ae3aebf0-28a0-488b-a33c-e0e714f70422",
   "metadata": {},
   "outputs": [
    {
     "data": {
      "text/plain": [
       "5"
      ]
     },
     "execution_count": 45,
     "metadata": {},
     "output_type": "execute_result"
    }
   ],
   "source": [
    "len([1,2,3,4,5])\n"
   ]
  },
  {
   "cell_type": "code",
   "execution_count": null,
   "id": "d2109864-5015-4f47-bfa0-759fb5663d53",
   "metadata": {},
   "outputs": [],
   "source": []
  }
 ],
 "metadata": {
  "kernelspec": {
   "display_name": "Python 3 (ipykernel)",
   "language": "python",
   "name": "python3"
  },
  "language_info": {
   "codemirror_mode": {
    "name": "ipython",
    "version": 3
   },
   "file_extension": ".py",
   "mimetype": "text/x-python",
   "name": "python",
   "nbconvert_exporter": "python",
   "pygments_lexer": "ipython3",
   "version": "3.11.7"
  }
 },
 "nbformat": 4,
 "nbformat_minor": 5
}
